{
 "cells": [
  {
   "cell_type": "code",
   "execution_count": 7,
   "id": "967f096c",
   "metadata": {},
   "outputs": [],
   "source": [
    "from deepdiff import DeepDiff"
   ]
  },
  {
   "cell_type": "code",
   "execution_count": 35,
   "id": "aa4f0817",
   "metadata": {},
   "outputs": [],
   "source": [
    "objetosLocais = {\n",
    "     'sbt-tracktrace-alert-anomalycreate': {'sbts-saps4-eventnotification': {'$Default': '1=1'}},\n",
    "     'sbt-tracktrace-alert-anomalyend': {'sbts-saps4-eventnotification': {'$Default': '1=1'}},\n",
    "     'sbt-wms-picking-delivery': {},\n",
    "     'sbt-wms-blindcount-created': {'sbts-sapS4-blindcount': {'$Default': '1=1'}},\n",
    "     'sbt-ppms-planned-order': {'sbts-s4h-planned-order': {'$Default': '1=1'}},\n",
    "     'sbt-ppms-process-order': {'sbts-s4h-process-order': {'$Default': '1=1'}},\n",
    "     'sbt-ontimemrp-order-purchaserequisition': {'sbts-s4h-order-purchaserequisition': {'$Default': '1=1'}},\n",
    "     'sbt-wms-picking-freight-order': {},\n",
    "     'sbt-egates-order-updated': {'sbt-egates-order-updated': {'$Default': '1=1'}},\n",
    "     'sbt-wms-blueprint-requestedwarehousesector': {'sbts-saps4-warehousesector': {'QueueNameRetry': \"QueueName='sbts-saps4-warehousesector'\",\n",
    "       '$Default': '1=1'}},\n",
    "     'sbt-tracktrace-tracking-loadstatuschangeconfirm': {'sbts-saps4-tracking-loadstatuschangedconfirm': {'$Default': '1=1'}},\n",
    "     'sbt-ratemanager-rate-table-processed': {'sbts-ontimeleilao-rate-table-processed': {'$Default': '1=1'}},\n",
    "     'sbt-wms-dailyinventory-counted': {'sbts-saps4-sendinventory': {'$Default': '1=1'}},\n",
    "     'sbt-wms-picking-closeload': {'sbts-sap-closeload-test': {'$Default': '1=1'},\n",
    "      'sbts-sap-closeload': {'QueueNameRetry': \"QueueName='sbts-sap-closeload'\",\n",
    "       '$Default': '1=1'}},\n",
    "     'sbt-wms-picking-releaseload': {'sbts-saptm-releaseload-test': {'$Default': '1=1'},\n",
    "      'sbts-saptm-releaseload': {'QueueNameRetry': \"QueueName='sbts-saptm-releaseload'\",\n",
    "       '$Default': '1=1'}},\n",
    "     'sbt-wms-movement-stockmoved': {'sbts-saps4-stockmoved': {'QueueNameRetry': \"QueueName='sbts-saps4-stockmoved'\",\n",
    "       '$Default': '1=1'}},\n",
    "     'sbt-ontimemrp-order-purchaseupdate': {'sbts-s4h-order-purchaseupdate': {'$Default': '1=1'}},\n",
    "     'sbt-unidocs-order-capa': {},\n",
    "     'sbt-ratemanager-rate-table-requested': {'sbts-ratemanager-rate-table-requested': {'$Default': '1=1'}},\n",
    "     'sbt-wms-monthlyinventory-counted': {'sbts-saps4-sendinventory': {'$Default': '1=1'}}}\n",
    "objetosAzure = {\n",
    "     'sbt-ontimemrp-order-purchaserequisition': {'sbts-s4h-order-purchaserequisition': {'$Default': '1=1'}},\n",
    "     'sbt-ontimemrp-order-purchaseupdate': {'sbts-s4h-order-purchaseupdate': {'$Default': '1=1'}},\n",
    "     'sbt-ppms-planned-order': {'sbts-s4h-planned-order': {'$Default': '1=1'}},\n",
    "     'sbt-ppms-process-order': {'sbts-s4h-process-order': {'$Default': '1=1'}},\n",
    "     'sbt-ratemanager-rate-table-processed': {'sbts-ontimeleilao-rate-table-processed': {'$Default': '1=1'}},\n",
    "     'sbt-ratemanager-rate-table-requested': {'sbts-ratemanager-rate-table-requested': {'$Default': '1=1'}},\n",
    "     'sbt-tracktrace-alert-anomalycreate': {'sbts-saps4-eventnotification': {'$Default': '1=1'}},\n",
    "     'sbt-tracktrace-alert-anomalyend': {'sbts-saps4-eventnotification': {'$Default': '1=1'}},\n",
    "     'sbt-tracktrace-tracking-loadstatuschangeconfirm': {'sbts-saps4-tracking-loadstatuschangedconfirm': {'$Default': '1=1'}},\n",
    "     'sbt-unidocs-order-capa': {},\n",
    "     'sbt-wms-blindcount-created': {'sbts-sapS4-blindcount': {'$Default': '1=1'}},\n",
    "     'sbt-wms-blueprint-requestedwarehousesector': {'sbts-saps4-warehousesector': {'$Default': '1=1'}},\n",
    "     'sbt-wms-dailyinventory-counted': {'sbts-saps4-sendinventory': {'$Default': '1=1'}},\n",
    "     'sbt-wms-monthlyinventory-counted': {'sbts-saps4-sendinventory': {'$Default': '1=1'}},\n",
    "     'sbt-wms-movement-stockmoved': {'sbts-saps4-stockmoved': {'$Default': '1=1'}},\n",
    "     'sbt-wms-picking-closeload': {'sbts-sap-closeload': {'$Default': '1=1',\n",
    "       'QueueNameRetry': \"QueueName='sbts-sap-closeload'\"},\n",
    "      'sbts-sap-closeload-test': {'$Default': '1=1'}},\n",
    "     'sbt-wms-picking-delivery': {},\n",
    "     'sbt-wms-picking-freight-order': {},\n",
    "     'sbt-wms-picking-releaseload': {'sbts-saptm-releaseload': {'$Default': '1=1',\n",
    "       'QueueNameRetry': \"QueueName='sbts-saptm-releaseload'\"},\n",
    "      'sbts-saptm-releaseload-test': {'$Default': '1=1'}}}"
   ]
  },
  {
   "cell_type": "code",
   "execution_count": 36,
   "id": "9b4c752c",
   "metadata": {},
   "outputs": [
    {
     "data": {
      "text/plain": [
       "{'dictionary_item_added': [root['sbt-egates-order-updated'], root['sbt-wms-blueprint-requestedwarehousesector']['sbts-saps4-warehousesector']['QueueNameRetry'], root['sbt-wms-movement-stockmoved']['sbts-saps4-stockmoved']['QueueNameRetry']]}"
      ]
     },
     "execution_count": 36,
     "metadata": {},
     "output_type": "execute_result"
    }
   ],
   "source": [
    "diff = DeepDiff(objetosAzure, objetosLocais)\n",
    "diff"
   ]
  },
  {
   "cell_type": "code",
   "execution_count": 39,
   "id": "313a1724",
   "metadata": {},
   "outputs": [],
   "source": [
    "if \"dictionary_item_removed\" in diff:\n",
    "    for item in diff['dictionary_item_removed']:\n",
    "        resource_path = item[6:-2].split(\"']['\")\n",
    "        if(len(resource_path) == 1):\n",
    "           print(f'Remove queue {resource_path[0]}') \n",
    "        elif(len(resource_path) == 2):\n",
    "           print(f'Remove subscrition {resource_path[1]} on queue {resource_path[1]}') \n",
    "        elif(len(resource_path) == 3):\n",
    "           print(f'Remove rule {resource_path[2]} on subscrition {resource_path[1]} on queue {resource_path[1]}') \n",
    "    "
   ]
  },
  {
   "cell_type": "code",
   "execution_count": 40,
   "id": "e4078cdb",
   "metadata": {},
   "outputs": [
    {
     "name": "stdout",
     "output_type": "stream",
     "text": [
      "Add queue sbt-egates-order-updated\n",
      "Add rule QueueNameRetry on subscrition sbts-saps4-warehousesector on queue sbts-saps4-warehousesector\n",
      "Add rule QueueNameRetry on subscrition sbts-saps4-stockmoved on queue sbts-saps4-stockmoved\n"
     ]
    }
   ],
   "source": [
    "\n",
    "if \"dictionary_item_added\" in diff:\n",
    "    for item in diff['dictionary_item_added']:\n",
    "        resource_path = item[6:-2].split(\"']['\")\n",
    "        if(len(resource_path) == 1):\n",
    "           print(f'Add queue {resource_path[0]}') \n",
    "        elif(len(resource_path) == 2):\n",
    "           print(f'Add subscrition {resource_path[1]} on queue {resource_path[1]}') \n",
    "        elif(len(resource_path) == 3):\n",
    "           print(f'Add rule {resource_path[2]} on subscrition {resource_path[1]} on queue {resource_path[1]}') \n"
   ]
  },
  {
   "cell_type": "code",
   "execution_count": null,
   "id": "569af2c6",
   "metadata": {},
   "outputs": [],
   "source": []
  }
 ],
 "metadata": {
  "kernelspec": {
   "display_name": "Python 3 (ipykernel)",
   "language": "python",
   "name": "python3"
  },
  "language_info": {
   "codemirror_mode": {
    "name": "ipython",
    "version": 3
   },
   "file_extension": ".py",
   "mimetype": "text/x-python",
   "name": "python",
   "nbconvert_exporter": "python",
   "pygments_lexer": "ipython3",
   "version": "3.8.10"
  }
 },
 "nbformat": 4,
 "nbformat_minor": 5
}
